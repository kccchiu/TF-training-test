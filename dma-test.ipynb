{
 "cells": [
  {
   "cell_type": "code",
   "execution_count": 1,
   "id": "211fdd07",
   "metadata": {},
   "outputs": [
    {
     "name": "stdout",
     "output_type": "stream",
     "text": [
      "2.7.0\n"
     ]
    },
    {
     "name": "stderr",
     "output_type": "stream",
     "text": [
      "2022-08-20 12:11:10.086601: I tensorflow/stream_executor/cuda/cuda_gpu_executor.cc:939] successful NUMA node read from SysFS had negative value (-1), but there must be at least one NUMA node, so returning NUMA node zero\n",
      "2022-08-20 12:11:10.188540: I tensorflow/stream_executor/cuda/cuda_gpu_executor.cc:939] successful NUMA node read from SysFS had negative value (-1), but there must be at least one NUMA node, so returning NUMA node zero\n",
      "2022-08-20 12:11:10.190661: I tensorflow/stream_executor/cuda/cuda_gpu_executor.cc:939] successful NUMA node read from SysFS had negative value (-1), but there must be at least one NUMA node, so returning NUMA node zero\n",
      "2022-08-20 12:11:10.194756: I tensorflow/core/platform/cpu_feature_guard.cc:151] This TensorFlow binary is optimized with oneAPI Deep Neural Network Library (oneDNN) to use the following CPU instructions in performance-critical operations:  AVX2 AVX512F FMA\n",
      "To enable them in other operations, rebuild TensorFlow with the appropriate compiler flags.\n",
      "2022-08-20 12:11:10.198235: I tensorflow/stream_executor/cuda/cuda_gpu_executor.cc:939] successful NUMA node read from SysFS had negative value (-1), but there must be at least one NUMA node, so returning NUMA node zero\n",
      "2022-08-20 12:11:10.200329: I tensorflow/stream_executor/cuda/cuda_gpu_executor.cc:939] successful NUMA node read from SysFS had negative value (-1), but there must be at least one NUMA node, so returning NUMA node zero\n",
      "2022-08-20 12:11:10.202144: I tensorflow/stream_executor/cuda/cuda_gpu_executor.cc:939] successful NUMA node read from SysFS had negative value (-1), but there must be at least one NUMA node, so returning NUMA node zero\n",
      "2022-08-20 12:11:11.561415: I tensorflow/stream_executor/cuda/cuda_gpu_executor.cc:939] successful NUMA node read from SysFS had negative value (-1), but there must be at least one NUMA node, so returning NUMA node zero\n",
      "2022-08-20 12:11:11.561886: I tensorflow/stream_executor/cuda/cuda_gpu_executor.cc:939] successful NUMA node read from SysFS had negative value (-1), but there must be at least one NUMA node, so returning NUMA node zero\n",
      "2022-08-20 12:11:11.562283: I tensorflow/stream_executor/cuda/cuda_gpu_executor.cc:939] successful NUMA node read from SysFS had negative value (-1), but there must be at least one NUMA node, so returning NUMA node zero\n",
      "2022-08-20 12:11:11.562683: I tensorflow/core/common_runtime/gpu/gpu_device.cc:1525] Created device /job:localhost/replica:0/task:0/device:GPU:0 with 9283 MB memory:  -> device: 0, name: NVIDIA GeForce RTX 3080 Ti, pci bus id: 0000:01:00.0, compute capability: 8.6\n"
     ]
    }
   ],
   "source": [
    "\"\"\"\n",
    "This script should train a TensorFlow model on the fashion MNIST \n",
    "dataset to ~90% test accuracy.\n",
    "\n",
    "It'll save the model to the current directory using the \".h5\" extension.\n",
    "\n",
    "You can use it to test if your local machine is fast enough to complete the\n",
    "TensorFlow Developer Certification.\n",
    "\n",
    "If this script runs in under 5-10 minutes through PyCharm, you're good to go.\n",
    "\n",
    "The models/datasets in the exam are similar to the ones used in this script.\n",
    "\"\"\"\n",
    "import tensorflow as tf\n",
    "from tensorflow.keras import datasets, layers\n",
    "\n",
    "# Check version of TensorFlow (exam requires a certain version)\n",
    "# See for version: https://www.tensorflow.org/extras/cert/Setting_Up_TF_Developer_Certificate_Exam.pdf \n",
    "print(tf.__version__)\n",
    "\n",
    "# Get data\n",
    "(train_images, train_labels), (test_images, test_labels) = datasets.fashion_mnist.load_data()\n",
    "\n",
    "# Normalize images (get values between 0 & 1)\n",
    "train_images, test_images = train_images / 255.0, test_images / 255.0 \n",
    "\n",
    "# Check shape of input data\n",
    "# print(train_images.shape)\n",
    "# print(train_labels.shape)\n",
    "\n",
    "# Build model\n",
    "model = tf.keras.Sequential([\n",
    "    # Reshape inputs to be compatible with Conv2D layer\n",
    "    layers.Lambda(lambda x: tf.expand_dims(x, axis=-1)),\n",
    "    layers.Conv2D(32, 3, activation=\"relu\"),\n",
    "    layers.MaxPool2D(),\n",
    "    layers.Conv2D(32, 3, activation=\"relu\"),\n",
    "    layers.MaxPool2D(),\n",
    "    layers.Conv2D(32, 3, activation=\"relu\"),\n",
    "    layers.Flatten(), # flatten outputs of final Conv layer to be suited for final Dense layer\n",
    "    layers.Dense(10, activation=\"softmax\")\n",
    "])\n",
    "\n",
    "# Compile model \n",
    "model.compile(loss=\"sparse_categorical_crossentropy\", # if labels aren't one-hot use sparse (if labels are one-hot, drop sparse)\n",
    "              optimizer=tf.keras.optimizers.Adam(),\n",
    "              metrics=[\"accuracy\"])"
   ]
  },
  {
   "cell_type": "code",
   "execution_count": 2,
   "id": "45933a29",
   "metadata": {},
   "outputs": [
    {
     "name": "stdout",
     "output_type": "stream",
     "text": [
      "Training model...\n",
      "Epoch 1/10\n"
     ]
    },
    {
     "name": "stderr",
     "output_type": "stream",
     "text": [
      "2022-08-20 12:11:18.291237: I tensorflow/stream_executor/cuda/cuda_dnn.cc:366] Loaded cuDNN version 8101\n",
      "2022-08-20 12:11:20.049815: I tensorflow/core/platform/default/subprocess.cc:304] Start cannot spawn child process: No such file or directory\n",
      "2022-08-20 12:11:22.281391: I tensorflow/stream_executor/cuda/cuda_blas.cc:1774] TensorFloat-32 will be used for the matrix multiplication. This will only be logged once.\n"
     ]
    },
    {
     "name": "stdout",
     "output_type": "stream",
     "text": [
      "1875/1875 [==============================] - 12s 3ms/step - loss: 0.5260 - accuracy: 0.8105 - val_loss: 0.4198 - val_accuracy: 0.8501\n",
      "Epoch 2/10\n",
      "1875/1875 [==============================] - 3s 2ms/step - loss: 0.3542 - accuracy: 0.8737 - val_loss: 0.3468 - val_accuracy: 0.8747\n",
      "Epoch 3/10\n",
      "1875/1875 [==============================] - 3s 2ms/step - loss: 0.3131 - accuracy: 0.8873 - val_loss: 0.3280 - val_accuracy: 0.8830\n",
      "Epoch 4/10\n",
      "1875/1875 [==============================] - 3s 2ms/step - loss: 0.2850 - accuracy: 0.8966 - val_loss: 0.3185 - val_accuracy: 0.8888\n",
      "Epoch 5/10\n",
      "1875/1875 [==============================] - 3s 2ms/step - loss: 0.2646 - accuracy: 0.9023 - val_loss: 0.3098 - val_accuracy: 0.8901\n",
      "Epoch 6/10\n",
      "1875/1875 [==============================] - 3s 2ms/step - loss: 0.2475 - accuracy: 0.9100 - val_loss: 0.2845 - val_accuracy: 0.9006\n",
      "Epoch 7/10\n",
      "1875/1875 [==============================] - 3s 2ms/step - loss: 0.2351 - accuracy: 0.9132 - val_loss: 0.2831 - val_accuracy: 0.8988\n",
      "Epoch 8/10\n",
      "1875/1875 [==============================] - 3s 2ms/step - loss: 0.2229 - accuracy: 0.9184 - val_loss: 0.2839 - val_accuracy: 0.8989\n",
      "Epoch 9/10\n",
      "1875/1875 [==============================] - 3s 2ms/step - loss: 0.2129 - accuracy: 0.9220 - val_loss: 0.2889 - val_accuracy: 0.8984\n",
      "Epoch 10/10\n",
      "1875/1875 [==============================] - 3s 2ms/step - loss: 0.2019 - accuracy: 0.9262 - val_loss: 0.2898 - val_accuracy: 0.9004\n",
      "Evaluating model...\n",
      "313/313 [==============================] - 0s 1ms/step - loss: 0.2898 - accuracy: 0.9004\n",
      "CPU times: user 50.1 s, sys: 4.61 s, total: 54.7 s\n",
      "Wall time: 42.4 s\n"
     ]
    }
   ],
   "source": [
    "%%time\n",
    "# Fit model\n",
    "print(\"Training model...\")\n",
    "model.fit(x=train_images,\n",
    "          y=train_labels,\n",
    "          epochs=10,\n",
    "          validation_data=(test_images, test_labels))\n",
    "\n",
    "# Evaluate model \n",
    "print(\"Evaluating model...\")\n",
    "model.evaluate(test_images, test_labels)\n",
    "\n",
    "# Save model to current working directory\n",
    "model.save(\"test_image_model.h5\")"
   ]
  }
 ],
 "metadata": {
  "kernelspec": {
   "display_name": "Python 3 (ipykernel)",
   "language": "python",
   "name": "python3"
  },
  "language_info": {
   "codemirror_mode": {
    "name": "ipython",
    "version": 3
   },
   "file_extension": ".py",
   "mimetype": "text/x-python",
   "name": "python",
   "nbconvert_exporter": "python",
   "pygments_lexer": "ipython3",
   "version": "3.8.10"
  }
 },
 "nbformat": 4,
 "nbformat_minor": 5
}
